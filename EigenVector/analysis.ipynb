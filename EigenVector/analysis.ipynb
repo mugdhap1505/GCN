{
 "cells": [
  {
   "cell_type": "code",
   "execution_count": 1,
   "metadata": {},
   "outputs": [],
   "source": [
    "import networkx as nx\n",
    "import numpy as np\n",
    "import matplotlib.pyplot as plt\n",
    "import pandas as pd"
   ]
  },
  {
   "cell_type": "code",
   "execution_count": 3,
   "metadata": {},
   "outputs": [
    {
     "name": "stdout",
     "output_type": "stream",
     "text": [
      "16260 31380\n"
     ]
    }
   ],
   "source": [
    "g = nx.read_edgelist(\"GCN_alt/data/edge_list_new.txt\")\n",
    "print(g.number_of_nodes(), g.number_of_edges())"
   ]
  },
  {
   "cell_type": "code",
   "execution_count": 5,
   "metadata": {},
   "outputs": [],
   "source": [
    "nx.write_graphml(g,\"graph_for_gephi.graphml\")"
   ]
  },
  {
   "cell_type": "code",
   "execution_count": 3,
   "metadata": {},
   "outputs": [
    {
     "name": "stdout",
     "output_type": "stream",
     "text": [
      "[('12730', 12), ('6315', 22), ('12748', 118), ('5964', 285), ('10217', 140), ('14653', 19), ('1784', 23), ('3081', 20), ('15482', 19), ('5412', 1)]\n"
     ]
    }
   ],
   "source": [
    "#degree distribution\n",
    "deg = list(nx.degree(g))\n",
    "print(deg[:10])"
   ]
  },
  {
   "cell_type": "code",
   "execution_count": 6,
   "metadata": {},
   "outputs": [],
   "source": [
    "deg_list = []\n",
    "for x in deg:\n",
    "    deg_list.append(int(x[1]))\n",
    "deg_list = sorted(deg_list, reverse= True)\n"
   ]
  },
  {
   "cell_type": "code",
   "execution_count": 18,
   "metadata": {},
   "outputs": [
    {
     "data": {
      "image/png": "[encoded data removed]",
      "text/plain": [
       "<Figure size 576x432 with 1 Axes>"
      ]
     },
     "metadata": {
      "needs_background": "light"
     },
     "output_type": "display_data"
    }
   ],
   "source": [
    "+fig = plt.figure(figsize= (8,6))\n",
    "x = np.arange(len(deg_list))\n",
    "plt.plot(x,deg_list,color = 'blue', marker = '^')\n",
    "plt.xscale('log')\n",
    "plt.yscale('log')\n",
    "plt.xlabel(\"nodes\")\n",
    "plt.ylabel(\"degree\")\n",
    "fig.savefig(\"degree.pdf\")"
   ]
  },
  {
   "cell_type": "code",
   "execution_count": 4,
   "metadata": {},
   "outputs": [],
   "source": [
    "pr = nx.eigenvector_centrality(g)"
   ]
  },
  {
   "cell_type": "code",
   "execution_count": 10,
   "metadata": {},
   "outputs": [],
   "source": [
    "eig_cent = []\n",
    "for k, v in pr.items():\n",
    "    eig_cent.append(v)\n",
    "eig_cent = sorted(eig_cent, reverse = True)"
   ]
  },
  {
   "cell_type": "code",
   "execution_count": 15,
   "metadata": {},
   "outputs": [
    {
     "data": {
      "image/png": "[encoded data removed]",
      "text/plain": [
       "<Figure size 576x432 with 1 Axes>"
      ]
     },
     "metadata": {
      "needs_background": "light"
     },
     "output_type": "display_data"
    }
   ],
   "source": [
    "fig = plt.figure(figsize= (8,6))\n",
    "x = np.arange(len(eig_cent))\n",
    "plt.plot(x,eig_cent,color = 'green', marker = '*')\n",
    "plt.xscale('log')\n",
    "# plt.yscale('log')\n",
    "plt.xlabel(\"nodes\")\n",
    "plt.ylabel(\"Eigenvector centrality\")\n",
    "fig.savefig(\"eigenvector_centrality.pdf\")"
   ]
  },
  {
   "cell_type": "code",
   "execution_count": 21,
   "metadata": {},
   "outputs": [],
   "source": [
    "# top 100 important nodes\n",
    "top_hund = []\n",
    "for i in range(100):\n",
    "    for k, v in pr.items():\n",
    "        if v == eig_cent[i]:\n",
    "            top_hund.append(k)\n"
   ]
  },
  {
   "cell_type": "code",
   "execution_count": 25,
   "metadata": {},
   "outputs": [
    {
     "data": {
      "text/html": [
       "<div>\n",
       "<style scoped>\n",
       "    .dataframe tbody tr th:only-of-type {\n",
       "        vertical-align: middle;\n",
       "    }\n",
       "\n",
       "    .dataframe tbody tr th {\n",
       "        vertical-align: top;\n",
       "    }\n",
       "\n",
       "    .dataframe thead th {\n",
       "        text-align: right;\n",
       "    }\n",
       "</style>\n",
       "<table border=\"1\" class=\"dataframe\">\n",
       "  <thead>\n",
       "    <tr style=\"text-align: right;\">\n",
       "      <th></th>\n",
       "      <th>0</th>\n",
       "      <th>1</th>\n",
       "      <th>2</th>\n",
       "      <th>3</th>\n",
       "      <th>4</th>\n",
       "      <th>5</th>\n",
       "      <th>6</th>\n",
       "      <th>7</th>\n",
       "      <th>8</th>\n",
       "      <th>9</th>\n",
       "    </tr>\n",
       "  </thead>\n",
       "  <tbody>\n",
       "    <tr>\n",
       "      <td>0</td>\n",
       "      <td>6322</td>\n",
       "      <td>8690</td>\n",
       "      <td>5964</td>\n",
       "      <td>13731</td>\n",
       "      <td>3155</td>\n",
       "      <td>15013</td>\n",
       "      <td>9889</td>\n",
       "      <td>5895</td>\n",
       "      <td>10991</td>\n",
       "      <td>5920</td>\n",
       "    </tr>\n",
       "    <tr>\n",
       "      <td>1</td>\n",
       "      <td>4677</td>\n",
       "      <td>10395</td>\n",
       "      <td>493</td>\n",
       "      <td>11470</td>\n",
       "      <td>13486</td>\n",
       "      <td>7829</td>\n",
       "      <td>13065</td>\n",
       "      <td>11484</td>\n",
       "      <td>10217</td>\n",
       "      <td>13900</td>\n",
       "    </tr>\n",
       "    <tr>\n",
       "      <td>2</td>\n",
       "      <td>4928</td>\n",
       "      <td>6482</td>\n",
       "      <td>14585</td>\n",
       "      <td>2944</td>\n",
       "      <td>15156</td>\n",
       "      <td>488</td>\n",
       "      <td>243</td>\n",
       "      <td>14185</td>\n",
       "      <td>10694</td>\n",
       "      <td>13460</td>\n",
       "    </tr>\n",
       "    <tr>\n",
       "      <td>3</td>\n",
       "      <td>6304</td>\n",
       "      <td>7318</td>\n",
       "      <td>13914</td>\n",
       "      <td>11869</td>\n",
       "      <td>8047</td>\n",
       "      <td>16076</td>\n",
       "      <td>4286</td>\n",
       "      <td>8776</td>\n",
       "      <td>14950</td>\n",
       "      <td>2579</td>\n",
       "    </tr>\n",
       "    <tr>\n",
       "      <td>4</td>\n",
       "      <td>9378</td>\n",
       "      <td>1444</td>\n",
       "      <td>12334</td>\n",
       "      <td>1202</td>\n",
       "      <td>5569</td>\n",
       "      <td>13410</td>\n",
       "      <td>3536</td>\n",
       "      <td>5741</td>\n",
       "      <td>12748</td>\n",
       "      <td>2961</td>\n",
       "    </tr>\n",
       "  </tbody>\n",
       "</table>\n",
       "</div>"
      ],
      "text/plain": [
       "      0      1      2      3      4      5      6      7      8      9\n",
       "0  6322   8690   5964  13731   3155  15013   9889   5895  10991   5920\n",
       "1  4677  10395    493  11470  13486   7829  13065  11484  10217  13900\n",
       "2  4928   6482  14585   2944  15156    488    243  14185  10694  13460\n",
       "3  6304   7318  13914  11869   8047  16076   4286   8776  14950   2579\n",
       "4  9378   1444  12334   1202   5569  13410   3536   5741  12748   2961"
      ]
     },
     "execution_count": 25,
     "metadata": {},
     "output_type": "execute_result"
    }
   ],
   "source": [
    "\n",
    "df = np.array(df).reshape(10,10)\n",
    "df =pd.DataFrame(df)\n",
    "df.head()"
   ]
  }
 ],
 "metadata": {
  "kernelspec": {
   "display_name": "Python 3",
   "language": "python",
   "name": "python3"
  },
  "language_info": {
   "codemirror_mode": {
    "name": "ipython",
    "version": 3
   },
   "file_extension": ".py",
   "mimetype": "text/x-python",
   "name": "python",
   "nbconvert_exporter": "python",
   "pygments_lexer": "ipython3",
   "version": "3.7.4"
  }
 },
 "nbformat": 4,
 "nbformat_minor": 2
}
